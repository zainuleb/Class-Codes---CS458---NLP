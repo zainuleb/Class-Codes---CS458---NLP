{
 "cells": [
  {
   "cell_type": "code",
   "execution_count": 22,
   "metadata": {},
   "outputs": [],
   "source": [
    "from sklearn.neighbors import KNeighborsClassifier\n",
    "import pandas as pd"
   ]
  },
  {
   "cell_type": "code",
   "execution_count": 23,
   "metadata": {},
   "outputs": [],
   "source": [
    "#corpus = open('D:\\\\Datasets\\grasshoppers_katydids.csv').read()\n",
    "corpus = pd.read_csv('grasshoppers_katydids.csv')"
   ]
  },
  {
   "cell_type": "code",
   "execution_count": 24,
   "metadata": {},
   "outputs": [
    {
     "data": {
      "text/plain": [
       "{'Grasshopper', 'Katydid'}"
      ]
     },
     "execution_count": 24,
     "metadata": {},
     "output_type": "execute_result"
    }
   ],
   "source": [
    "#rows = corpus.split('\\n')\n",
    "X = corpus.iloc[: , [1, 2]].values\n",
    "y = corpus.iloc[: , 3].values\n",
    "\n",
    "set(y)"
   ]
  },
  {
   "cell_type": "code",
   "execution_count": 28,
   "metadata": {},
   "outputs": [],
   "source": [
    "knnc = KNeighborsClassifier(n_neighbors = 3)\n",
    "knnc.fit(X, y)\n",
    "res = knnc.predict([[4, 5]])"
   ]
  },
  {
   "cell_type": "code",
   "execution_count": 29,
   "metadata": {},
   "outputs": [
    {
     "data": {
      "image/png": "[encoded data removed]",
      "text/plain": [
       "<Figure size 432x288 with 1 Axes>"
      ]
     },
     "metadata": {
      "needs_background": "light"
     },
     "output_type": "display_data"
    }
   ],
   "source": [
    "import matplotlib.pyplot as plt\n",
    "plt.scatter(X[: , 0], X[: , 1], s = 10, c = 'black', marker = 'o')\n",
    "\n",
    "labels = knnc.predict(X)\n",
    "plt.scatter(X[labels=='Grasshopper', 0], X[labels=='Grasshopper', 1], s = 50, marker = 'o', color = 'blue')\n",
    "plt.scatter(X[labels=='Katydid', 0], X[labels=='Katydid', 1], s = 50, c = 'red', marker = 's')\n",
    "plt.scatter(4, 5, s = 100, marker = 'D', color = 'purple')\n",
    "plt.title('Grasshopper and Katydids Classification')\n",
    "plt.xlabel('Abdomen length')\n",
    "plt.ylabel('Antennae length')\n",
    "plt.show()"
   ]
  }
 ],
 "metadata": {
  "kernelspec": {
   "display_name": "Python 3",
   "language": "python",
   "name": "python3"
  },
  "language_info": {
   "codemirror_mode": {
    "name": "ipython",
    "version": 3
   },
   "file_extension": ".py",
   "mimetype": "text/x-python",
   "name": "python",
   "nbconvert_exporter": "python",
   "pygments_lexer": "ipython3",
   "version": "3.7.4"
  }
 },
 "nbformat": 4,
 "nbformat_minor": 4
}
