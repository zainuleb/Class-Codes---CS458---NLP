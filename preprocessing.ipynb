{
 "cells": [
  {
   "cell_type": "code",
   "execution_count": 1,
   "metadata": {},
   "outputs": [],
   "source": [
    "from nltk import ngrams"
   ]
  },
  {
   "cell_type": "code",
   "execution_count": 2,
   "metadata": {},
   "outputs": [
    {
     "data": {
      "text/plain": [
       "['i', 'hope', 'you', 'are', 'you', 'are', 'doing', 'well']"
      ]
     },
     "execution_count": 2,
     "metadata": {},
     "output_type": "execute_result"
    }
   ],
   "source": [
    "text = \"i hope you are you are doing well\"\n",
    "words = text.split(' ')\n",
    "words"
   ]
  },
  {
   "cell_type": "code",
   "execution_count": 3,
   "metadata": {},
   "outputs": [
    {
     "data": {
      "text/plain": [
       "'!\"#$%&\\'()*+,-./:;<=>?@[\\\\]^_`{|}~'"
      ]
     },
     "execution_count": 3,
     "metadata": {},
     "output_type": "execute_result"
    }
   ],
   "source": [
    "from string import punctuation as punc\n",
    "punc"
   ]
  },
  {
   "cell_type": "code",
   "execution_count": 4,
   "metadata": {},
   "outputs": [
    {
     "name": "stderr",
     "output_type": "stream",
     "text": [
      "C:\\Users\\Zain Ul Ebad\\AppData\\Local\\Continuum\\anaconda3\\lib\\site-packages\\sklearn\\utils\\deprecation.py:144: FutureWarning: The sklearn.feature_extraction.stop_words module is  deprecated in version 0.22 and will be removed in version 0.24. The corresponding classes / functions should instead be imported from sklearn.feature_extraction.text. Anything that cannot be imported from sklearn.feature_extraction.text is now part of the private API.\n",
      "  warnings.warn(message, FutureWarning)\n"
     ]
    },
    {
     "data": {
      "text/plain": [
       "['system',\n",
       " 'whom',\n",
       " 'the',\n",
       " 'elsewhere',\n",
       " 'within',\n",
       " 'he',\n",
       " 'only',\n",
       " 'therein',\n",
       " 'any',\n",
       " 'ie',\n",
       " 'mine',\n",
       " 'and',\n",
       " 'bottom',\n",
       " 'hereafter',\n",
       " 'yourself',\n",
       " 'thereupon',\n",
       " 'whether',\n",
       " 'all',\n",
       " 'amoungst',\n",
       " 'anyway',\n",
       " 'anyhow',\n",
       " 'eight',\n",
       " 'latter',\n",
       " 'with',\n",
       " 'next',\n",
       " 'enough',\n",
       " 'something',\n",
       " 'alone',\n",
       " 'some',\n",
       " 'ours',\n",
       " 'sixty',\n",
       " 'whence',\n",
       " 'thereby',\n",
       " 'done',\n",
       " 'show',\n",
       " 'eleven',\n",
       " 'himself',\n",
       " 'my',\n",
       " 'was',\n",
       " 'no',\n",
       " 'except',\n",
       " 'go',\n",
       " 'yourselves',\n",
       " 'be',\n",
       " 'whoever',\n",
       " 'beyond',\n",
       " 'him',\n",
       " 'whole',\n",
       " 'back',\n",
       " 'being',\n",
       " 'such',\n",
       " 'as',\n",
       " 'we',\n",
       " 'though',\n",
       " 'therefore',\n",
       " 'up',\n",
       " 'keep',\n",
       " 'behind',\n",
       " 'formerly',\n",
       " 'onto',\n",
       " 'otherwise',\n",
       " 'to',\n",
       " 'toward',\n",
       " 'yet',\n",
       " 'than',\n",
       " 'none',\n",
       " 'against',\n",
       " 'moreover',\n",
       " 'each',\n",
       " 'third',\n",
       " 'once',\n",
       " 'however',\n",
       " 'again',\n",
       " 'me',\n",
       " 'nobody',\n",
       " 'were',\n",
       " 'less',\n",
       " 'latterly',\n",
       " 'can',\n",
       " 'ltd',\n",
       " 'across',\n",
       " 'etc',\n",
       " 'empty',\n",
       " 'during',\n",
       " 'itself',\n",
       " 'often',\n",
       " 'but',\n",
       " 'may',\n",
       " 'by',\n",
       " 'four',\n",
       " 'everyone',\n",
       " 'thru',\n",
       " 'myself',\n",
       " 'co',\n",
       " 'un',\n",
       " 'so',\n",
       " 'is',\n",
       " 'afterwards',\n",
       " 'it',\n",
       " 'becomes',\n",
       " 'could',\n",
       " 'else',\n",
       " 'fill',\n",
       " 'here',\n",
       " 'for',\n",
       " 'she',\n",
       " 'front',\n",
       " 'neither',\n",
       " 'around',\n",
       " 'hundred',\n",
       " 'de',\n",
       " 'first',\n",
       " 'wherein',\n",
       " 'move',\n",
       " 'yours',\n",
       " 'us',\n",
       " 'whereafter',\n",
       " 'beforehand',\n",
       " 'namely',\n",
       " 'their',\n",
       " 'ten',\n",
       " 'twelve',\n",
       " 'nine',\n",
       " 'then',\n",
       " 'now',\n",
       " 'amount',\n",
       " 'that',\n",
       " 'name',\n",
       " 'sincere',\n",
       " 'very',\n",
       " 'am',\n",
       " 'hereupon',\n",
       " 'same',\n",
       " 'a',\n",
       " 'two',\n",
       " 'from',\n",
       " 'of',\n",
       " 'side',\n",
       " 'much',\n",
       " 'more',\n",
       " 'would',\n",
       " 'rather',\n",
       " 'get',\n",
       " 'nevertheless',\n",
       " 'they',\n",
       " 'somehow',\n",
       " 'i',\n",
       " 'whereas',\n",
       " 'these',\n",
       " 'sometime',\n",
       " 'fifty',\n",
       " 'themselves',\n",
       " 'seeming',\n",
       " 'eg',\n",
       " 'about',\n",
       " 'others',\n",
       " 'have',\n",
       " 'mostly',\n",
       " 'out',\n",
       " 'twenty',\n",
       " 'whither',\n",
       " 'find',\n",
       " 'almost',\n",
       " 'become',\n",
       " 'found',\n",
       " 'other',\n",
       " 'since',\n",
       " 'until',\n",
       " 'above',\n",
       " 'ever',\n",
       " 'put',\n",
       " 'already',\n",
       " 'while',\n",
       " 'seems',\n",
       " 'below',\n",
       " 'six',\n",
       " 'thereafter',\n",
       " 'beside',\n",
       " 'most',\n",
       " 'on',\n",
       " 'via',\n",
       " 'fifteen',\n",
       " 'couldnt',\n",
       " 'not',\n",
       " 'together',\n",
       " 'whereby',\n",
       " 'indeed',\n",
       " 'perhaps',\n",
       " 'five',\n",
       " 'throughout',\n",
       " 'part',\n",
       " 'further',\n",
       " 'call',\n",
       " 'if',\n",
       " 'in',\n",
       " 'or',\n",
       " 'full',\n",
       " 'his',\n",
       " 'always',\n",
       " 'sometimes',\n",
       " 'nothing',\n",
       " 'anywhere',\n",
       " 'thus',\n",
       " 'off',\n",
       " 'will',\n",
       " 'well',\n",
       " 'hence',\n",
       " 'see',\n",
       " 'take',\n",
       " 'cant',\n",
       " 'towards',\n",
       " 'own',\n",
       " 'someone',\n",
       " 'under',\n",
       " 'bill',\n",
       " 'has',\n",
       " 'without',\n",
       " 'amongst',\n",
       " 'per',\n",
       " 're',\n",
       " 'through',\n",
       " 'mill',\n",
       " 'you',\n",
       " 'how',\n",
       " 'whose',\n",
       " 'had',\n",
       " 'least',\n",
       " 'another',\n",
       " 'noone',\n",
       " 'serious',\n",
       " 'former',\n",
       " 'into',\n",
       " 'must',\n",
       " 'who',\n",
       " 'top',\n",
       " 'anything',\n",
       " 'describe',\n",
       " 'when',\n",
       " 'never',\n",
       " 'becoming',\n",
       " 'due',\n",
       " 'detail',\n",
       " 'every',\n",
       " 'hers',\n",
       " 'should',\n",
       " 'which',\n",
       " 'last',\n",
       " 'give',\n",
       " 'along',\n",
       " 'too',\n",
       " 'there',\n",
       " 'before',\n",
       " 'forty',\n",
       " 'this',\n",
       " 'con',\n",
       " 'nowhere',\n",
       " 'over',\n",
       " 'down',\n",
       " 'meanwhile',\n",
       " 'everywhere',\n",
       " 'nor',\n",
       " 'whereupon',\n",
       " 'both',\n",
       " 'inc',\n",
       " 'upon',\n",
       " 'although',\n",
       " 'even',\n",
       " 'them',\n",
       " 'besides',\n",
       " 'seem',\n",
       " 'three',\n",
       " 'what',\n",
       " 'interest',\n",
       " 'wherever',\n",
       " 'several',\n",
       " 'cry',\n",
       " 'herein',\n",
       " 'anyone',\n",
       " 'became',\n",
       " 'herself',\n",
       " 'ourselves',\n",
       " 'your',\n",
       " 'among',\n",
       " 'those',\n",
       " 'either',\n",
       " 'our',\n",
       " 'whatever',\n",
       " 'its',\n",
       " 'whenever',\n",
       " 'where',\n",
       " 'everything',\n",
       " 'few',\n",
       " 'because',\n",
       " 'also',\n",
       " 'been',\n",
       " 'somewhere',\n",
       " 'after',\n",
       " 'between',\n",
       " 'thick',\n",
       " 'her',\n",
       " 'are',\n",
       " 'made',\n",
       " 'many',\n",
       " 'one',\n",
       " 'thence',\n",
       " 'hereby',\n",
       " 'cannot',\n",
       " 'please',\n",
       " 'at',\n",
       " 'fire',\n",
       " 'hasnt',\n",
       " 'might',\n",
       " 'an',\n",
       " 'do',\n",
       " 'thin',\n",
       " 'why',\n",
       " 'seemed',\n",
       " 'still']"
      ]
     },
     "execution_count": 4,
     "metadata": {},
     "output_type": "execute_result"
    }
   ],
   "source": [
    "from sklearn.feature_extraction import stop_words\n",
    "list(stop_words.ENGLISH_STOP_WORDS)"
   ]
  },
  {
   "cell_type": "code",
   "execution_count": 5,
   "metadata": {},
   "outputs": [
    {
     "name": "stdout",
     "output_type": "stream",
     "text": [
      "unigrams [('i',), ('hope',), ('you',), ('are',), ('you',), ('are',), ('doing',), ('well',)]\n",
      "bigrams [('i', 'hope'), ('hope', 'you'), ('you', 'are'), ('are', 'you'), ('you', 'are'), ('are', 'doing'), ('doing', 'well')]\n",
      "trigrams [('i', 'hope', 'you'), ('hope', 'you', 'are'), ('you', 'are', 'you'), ('are', 'you', 'are'), ('you', 'are', 'doing'), ('are', 'doing', 'well')]\n"
     ]
    }
   ],
   "source": [
    "#words = words[:100]\n",
    "unigrams = list(ngrams(words, 1))\n",
    "bigrams = list(ngrams(words, 2))\n",
    "trigrams = list(ngrams(words, 3))\n",
    "print(\"unigrams\", unigrams)\n",
    "print(\"bigrams\", bigrams)\n",
    "print(\"trigrams\", trigrams)"
   ]
  },
  {
   "cell_type": "code",
   "execution_count": 6,
   "metadata": {},
   "outputs": [],
   "source": [
    "from nltk.stem import PorterStemmer\n",
    "ps = PorterStemmer()"
   ]
  },
  {
   "cell_type": "code",
   "execution_count": 7,
   "metadata": {},
   "outputs": [
    {
     "name": "stdout",
     "output_type": "stream",
     "text": [
      "i\n",
      "hope\n",
      "you\n",
      "are\n",
      "you\n",
      "are\n",
      "do\n",
      "well\n"
     ]
    }
   ],
   "source": [
    "for word in words:\n",
    "    print(ps.stem(word))"
   ]
  },
  {
   "cell_type": "code",
   "execution_count": 8,
   "metadata": {},
   "outputs": [],
   "source": [
    "from nltk.stem import WordNetLemmatizer\n",
    "wl = WordNetLemmatizer()"
   ]
  },
  {
   "cell_type": "code",
   "execution_count": 9,
   "metadata": {},
   "outputs": [
    {
     "name": "stdout",
     "output_type": "stream",
     "text": [
      "i\n",
      "hope\n",
      "you\n",
      "be\n",
      "you\n",
      "be\n",
      "do\n",
      "well\n"
     ]
    }
   ],
   "source": [
    "for word in words:\n",
    "    print(wl.lemmatize(word, 'v'))"
   ]
  },
  {
   "cell_type": "code",
   "execution_count": 10,
   "metadata": {},
   "outputs": [
    {
     "data": {
      "text/plain": [
       "[('i', 'NNS'),\n",
       " ('hope', 'VBP'),\n",
       " ('you', 'PRP'),\n",
       " ('are', 'VBP'),\n",
       " ('you', 'PRP'),\n",
       " ('are', 'VBP'),\n",
       " ('doing', 'VBG'),\n",
       " ('well', 'RB')]"
      ]
     },
     "execution_count": 10,
     "metadata": {},
     "output_type": "execute_result"
    }
   ],
   "source": [
    "from nltk import pos_tag\n",
    "tags = pos_tag(words)\n",
    "tags"
   ]
  },
  {
   "cell_type": "code",
   "execution_count": 11,
   "metadata": {},
   "outputs": [
    {
     "name": "stderr",
     "output_type": "stream",
     "text": [
      "[nltk_data] Downloading package averaged_perceptron_tagger to\n",
      "[nltk_data]     C:\\Users\\Zain Ul Ebad\\AppData\\Roaming\\nltk_data...\n",
      "[nltk_data]   Package averaged_perceptron_tagger is already up-to-\n",
      "[nltk_data]       date!\n"
     ]
    },
    {
     "data": {
      "text/plain": [
       "True"
      ]
     },
     "execution_count": 11,
     "metadata": {},
     "output_type": "execute_result"
    }
   ],
   "source": [
    "import nltk\n",
    "nltk.download('averaged_perceptron_tagger')"
   ]
  },
  {
   "cell_type": "code",
   "execution_count": 12,
   "metadata": {},
   "outputs": [
    {
     "name": "stderr",
     "output_type": "stream",
     "text": [
      "[nltk_data] Downloading package wordnet to C:\\Users\\Zain Ul\n",
      "[nltk_data]     Ebad\\AppData\\Roaming\\nltk_data...\n",
      "[nltk_data]   Package wordnet is already up-to-date!\n"
     ]
    },
    {
     "data": {
      "text/plain": [
       "True"
      ]
     },
     "execution_count": 12,
     "metadata": {},
     "output_type": "execute_result"
    }
   ],
   "source": [
    "import nltk\n",
    "nltk.download('wordnet')"
   ]
  },
  {
   "cell_type": "code",
   "execution_count": 13,
   "metadata": {},
   "outputs": [
    {
     "name": "stdout",
     "output_type": "stream",
     "text": [
      "unigrams:  [('i',), ('hope',), ('you',), ('are',), ('you',), ('are',), ('doing',), ('well',)]\n",
      "bigrams:  [('i', 'hope'), ('hope', 'you'), ('you', 'are'), ('are', 'you'), ('you', 'are'), ('are', 'doing'), ('doing', 'well')]\n",
      "trigrams:  [('i', 'hope', 'you'), ('hope', 'you', 'are'), ('you', 'are', 'you'), ('are', 'you', 'are'), ('you', 'are', 'doing'), ('are', 'doing', 'well')]\n"
     ]
    }
   ],
   "source": [
    "print('unigrams: ', unigrams)\n",
    "print('bigrams: ', bigrams)\n",
    "print('trigrams: ', trigrams)"
   ]
  },
  {
   "cell_type": "code",
   "execution_count": 14,
   "metadata": {},
   "outputs": [
    {
     "data": {
      "text/plain": [
       "[0.16666666666666666,\n",
       " 0.16666666666666666,\n",
       " 0.3333333333333333,\n",
       " 0.3333333333333333,\n",
       " 0.3333333333333333,\n",
       " 0.3333333333333333,\n",
       " 0.16666666666666666,\n",
       " 0.16666666666666666]"
      ]
     },
     "execution_count": 14,
     "metadata": {},
     "output_type": "execute_result"
    }
   ],
   "source": [
    "unigrams_freq = [words.count(x)/len(set(words)) for x in words]\n",
    "unigrams_freq"
   ]
  },
  {
   "cell_type": "code",
   "execution_count": 15,
   "metadata": {},
   "outputs": [
    {
     "data": {
      "text/plain": [
       "('i', 'hope')"
      ]
     },
     "execution_count": 15,
     "metadata": {},
     "output_type": "execute_result"
    }
   ],
   "source": [
    "bigrams[0]"
   ]
  },
  {
   "cell_type": "code",
   "execution_count": 16,
   "metadata": {},
   "outputs": [
    {
     "data": {
      "text/plain": [
       "[1.0, 1.0, 1.0, 0.5, 1.0, 0.5, 1.0]"
      ]
     },
     "execution_count": 16,
     "metadata": {},
     "output_type": "execute_result"
    }
   ],
   "source": [
    "bigrams_freq = []\n",
    "for b in bigrams:\n",
    "    temp = bigrams.count(b)\n",
    "    temp2 = words.count(b[0])\n",
    "    bigrams_freq.append(temp/temp2)\n",
    "bigrams_freq    "
   ]
  },
  {
   "cell_type": "code",
   "execution_count": 17,
   "metadata": {},
   "outputs": [
    {
     "data": {
      "text/plain": [
       "[1.0, 1.0, 0.5, 1.0, 0.5, 1.0]"
      ]
     },
     "execution_count": 17,
     "metadata": {},
     "output_type": "execute_result"
    }
   ],
   "source": [
    "trigrams_freq = [trigrams.count(x)/bigrams.count(x[:2]) for x in trigrams]\n",
    "trigrams_freq"
   ]
  },
  {
   "cell_type": "code",
   "execution_count": 18,
   "metadata": {},
   "outputs": [],
   "source": [
    "from nltk.corpus import brown"
   ]
  },
  {
   "cell_type": "code",
   "execution_count": 19,
   "metadata": {},
   "outputs": [],
   "source": [
    "words = brown.words(categories = 'news')"
   ]
  },
  {
   "cell_type": "code",
   "execution_count": 20,
   "metadata": {},
   "outputs": [
    {
     "data": {
      "text/plain": [
       "100554"
      ]
     },
     "execution_count": 20,
     "metadata": {},
     "output_type": "execute_result"
    }
   ],
   "source": [
    "len(words)"
   ]
  }
 ],
 "metadata": {
  "kernelspec": {
   "display_name": "Python 3",
   "language": "python",
   "name": "python3"
  },
  "language_info": {
   "codemirror_mode": {
    "name": "ipython",
    "version": 3
   },
   "file_extension": ".py",
   "mimetype": "text/x-python",
   "name": "python",
   "nbconvert_exporter": "python",
   "pygments_lexer": "ipython3",
   "version": "3.7.4"
  }
 },
 "nbformat": 4,
 "nbformat_minor": 4
}
